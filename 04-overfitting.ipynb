{
 "cells": [
  {
   "cell_type": "markdown",
   "metadata": {
    "collapsed": true,
    "pycharm": {
     "name": "#%% md\n"
    }
   },
   "source": [
    "```\n",
    " _____                 __ _ _   _   _\n",
    "|  _  |               / _(_) | | | (_)\n",
    "| | | |_   _____ _ __| |_ _| |_| |_ _ _ __   __ _\n",
    "| | | \\ \\ / / _ \\ '__|  _| | __| __| | '_ \\ / _` |\n",
    "\\ \\_/ /\\ V /  __/ |  | | | | |_| |_| | | | | (_| |\n",
    " \\___/  \\_/ \\___|_|  |_| |_|\\__|\\__|_|_| |_|\\__, |\n",
    "                                             __/ |\n",
    "                                            |___/\n",
    "```"
   ]
  },
  {
   "cell_type": "code",
   "execution_count": 3,
   "metadata": {
    "pycharm": {
     "name": "#%%\n"
    }
   },
   "outputs": [],
   "source": [
    "from sklearn.preprocessing import PolynomialFeatures\n",
    "%matplotlib inline\n",
    "\n",
    "import numpy as np\n",
    "from matplotlib import pyplot as plt\n",
    "from sklearn.linear_model import LinearRegression\n",
    "from sklearn.tree import DecisionTreeClassifier\n",
    "from sklearn.metrics import mean_squared_error, zero_one_loss\n",
    "from sklearn.utils import check_random_state\n",
    "\n",
    "from helper import get_reg_X_y, get_cls_X_y, plt_decorate, Color"
   ]
  },
  {
   "cell_type": "markdown",
   "metadata": {
    "pycharm": {
     "name": "#%% md\n"
    }
   },
   "source": [
    "# Unbiased estimate\n",
    "So far, we have estimated the error of the model by using the training set.\n",
    "This is not a good, however. The reason for that is that the learning algorithm\n",
    "has used the training set to come up with the model. In the worst case, the\n",
    "algorithm might have *just* memorized the whole training set and would therefore\n",
    "appear perfect on it but rather bad on another dataset drawn from the same\n",
    "distribution.\n",
    "\n",
    "\n",
    "## Regression"
   ]
  },
  {
   "cell_type": "code",
   "execution_count": 13,
   "metadata": {
    "pycharm": {
     "name": "#%%\n"
    }
   },
   "outputs": [],
   "source": [
    "rng = check_random_state(1234)\n",
    "X_train, y_train = get_reg_X_y(50, seed=rng)\n",
    "X, y = get_reg_X_y(50, seed=rng)\n",
    "\n",
    "complexities = np.arange(1, 17, 1)\n",
    "errors = []\n",
    "tr_errors = []\n",
    "for degree in complexities:\n",
    "    transf = PolynomialFeatures(degree=degree)\n",
    "    X_tr_poly = transf.fit_transform(X_train)\n",
    "    X_poly = transf.transform(X)\n",
    "\n",
    "    model = LinearRegression().fit(X_tr_poly, y_train)\n",
    "    y_tr_pred = model.predict(X_tr_poly)\n",
    "    y_pred = model.predict(X_poly)\n",
    "\n",
    "    errors.append(mean_squared_error(y, y_pred))\n",
    "    tr_errors.append(mean_squared_error(y_train, y_tr_pred))"
   ]
  },
  {
   "cell_type": "code",
   "execution_count": 14,
   "metadata": {
    "pycharm": {
     "name": "#%%\n"
    }
   },
   "outputs": [
    {
     "data": {
      "text/plain": [
       "<matplotlib.legend.Legend at 0x7f975aa92520>"
      ]
     },
     "execution_count": 14,
     "metadata": {},
     "output_type": "execute_result"
    },
    {
     "data": {
      "image/png": "[encoded data removed]",
      "text/plain": [
       "<Figure size 432x288 with 1 Axes>"
      ]
     },
     "metadata": {
      "needs_background": "light"
     },
     "output_type": "display_data"
    }
   ],
   "source": [
    "plt.plot(complexities, errors, label=\"unbiased\", color=Color.GREEN.value)\n",
    "plt.plot(complexities, tr_errors, label=\"biased\", color=Color.MAGENTA.value)\n",
    "plt_decorate(xlabel=\"Complexity (degree of polynomial)\", ylabel=\"Error (MSE)\")\n",
    "plt.legend()"
   ]
  },
  {
   "cell_type": "markdown",
   "metadata": {
    "pycharm": {
     "name": "#%% md\n"
    }
   },
   "source": [
    "## Classification"
   ]
  },
  {
   "cell_type": "code",
   "execution_count": null,
   "outputs": [],
   "source": [
    "X_train, y_train = get_cls_X_y(50, seed=rng)\n",
    "X, y = get_cls_X_y(50, seed=rng)\n",
    "\n",
    "complexities = np.arange(1, 10, 1)\n",
    "errors = []\n",
    "tr_errors = []\n",
    "for depth in complexities:\n",
    "    model = DecisionTreeClassifier(max_depth=depth).fit(X_train, y_train)\n",
    "    y_tr_pred = model.predict(X_train)\n",
    "    y_pred = model.predict(X)\n",
    "\n",
    "    errors.append(mean_squared_error(y, y_pred))\n",
    "    tr_errors.append(mean_squared_error(y_train, y_tr_pred))"
   ],
   "metadata": {
    "collapsed": false,
    "pycharm": {
     "name": "#%%\n"
    }
   }
  },
  {
   "cell_type": "code",
   "execution_count": null,
   "outputs": [],
   "source": [
    "plt.plot(complexities, errors, label=\"unbiased\", color=Color.GREEN.value)\n",
    "plt.plot(complexities, tr_errors, label=\"biased\", color=Color.MAGENTA.value)\n",
    "plt_decorate(xlabel=\"Complexity (depth)\", ylabel=\"Error (misclassification rate)\")\n",
    "plt.legend()"
   ],
   "metadata": {
    "collapsed": false,
    "pycharm": {
     "name": "#%%\n"
    }
   }
  },
  {
   "cell_type": "markdown",
   "source": [
    "# Overfitting and complexity\n",
    "The part in the above graphs where the curves diverge is called\n",
    "overfitting. It is when the model was selected by following too closely the\n",
    "training set. At that stage, the true error (estimated on the unbiased set)\n",
    "is much worse than what appear on the training set.\n",
    "\n",
    "It is important to note that on the x-axis, the label is \"complexity\". Defining\n",
    "it precisely is a bit involved (see `VC dimension`) but intuitively it is a\n",
    "measure of how expressive the hypothesis space is. For instance, you can\n",
    "express more functions with degree-2 polynomials than with degree-1\n",
    "(ie. linear) polynomials.\n",
    "Similarly, you a depth-2 decision tree can express more functions than a stump\n",
    "(depth-1 decision tree).\n",
    "\n",
    "Since a complex hypothesis space is more flexible, there is more freedom to\n",
    "find a good match on the training set alone. Because this is the (in)direct\n",
    "objective of any training algorithm (but see `regularization` for some nuance),\n",
    "it explains why overfitting appears (and usually increases to some extent)\n",
    "with higher complexities.\n",
    "\n",
    "Finally, let us note that the last comments implies that, for a fixed hypothesis\n",
    "space (hence complexity), increasing the number of training samples $n$ makes it\n",
    "less likely to find a hypothesis which happens to fit training set by chance.\n",
    "More broadly speaking, the only reason for which we might have to reduce the\n",
    "number of training samples is computing time.\n",
    "\n",
    "\n",
    "> ###### Take aways\n",
    "> - The error must be estimated on an independent set.\n",
    "> - Overfitting (is much more likely to) appear(s) when the hypothesis space\n",
    "> is too \"complex\".\n",
    "> - The more training samples, the better.\n",
    "\n",
    "\n"
   ],
   "metadata": {
    "collapsed": false,
    "pycharm": {
     "name": "#%% md\n"
    }
   }
  },
  {
   "cell_type": "markdown",
   "source": [
    "# Reliable estimates\n",
    "The error on the training set is called the `resubstitution error`. As we have\n",
    "seen, this is not a reliable estimate. In the experiments above, we generated\n",
    "a new dataset. This is, of course, not feasible in practical settings. Instead,\n",
    "we rely on the two methods below.\n",
    "\n",
    "## Train/test split\n",
    "When the training set is large enough, one can simply split it in two, setting\n",
    "some samples aside for estimation. This is known as the `train/test` method.\n",
    "\n",
    "> TODO image"
   ],
   "metadata": {
    "collapsed": false,
    "pycharm": {
     "name": "#%% md\n"
    }
   }
  },
  {
   "cell_type": "code",
   "execution_count": null,
   "outputs": [],
   "source": [
    "# Scikit-learn comes with all the necessary tools\n",
    "from sklearn.model_selection import train_test_split\n",
    "X, y = get_reg_X_y(50)\n",
    "X_train, X_test, y_train, y_test = train_test_split(\n",
    "    X, y, test_size=.33, random_state=rng,\n",
    ")\n",
    "print(X_train.shape, X_test.shape)"
   ],
   "metadata": {
    "collapsed": false,
    "pycharm": {
     "name": "#%%\n"
    }
   }
  },
  {
   "cell_type": "markdown",
   "source": [
    "## Cross-validation\n",
    "When the dataset is small, setting aside samples might hurt the performance.\n",
    "On the other hand, a too small test set might not provide a stable-enough\n",
    "error estimate. In such circumstances, we may opt for `cross-validation` (CV).\n",
    "\n",
    "Cross-validation consists in splitting the dataset in $k$ (eg. 10) folds. Each\n",
    "fold is used to train a model, and the remaining samples are used as test set.\n",
    "The process is repeated for each fold, and the errors are averaged.\n",
    "\n",
    "> TODO image\n",
    "\n",
    "Once again, scikit-learn comes with facilities for cross-validation\n",
    "\n",
    "> ###### Technical note\n",
    "> It should be noted that the estimate given by the cross-validation actually\n",
    "> measure the average performance of the learning algorithm, not of the model.\n",
    "> If the variance is low, the CV estimate can be used as a surrogate for the\n",
    "> model's error.\n",
    "\n"
   ],
   "metadata": {
    "collapsed": false,
    "pycharm": {
     "name": "#%% md\n"
    }
   }
  }
 ],
 "metadata": {
  "kernelspec": {
   "display_name": "Python 3",
   "language": "python",
   "name": "python3"
  },
  "language_info": {
   "codemirror_mode": {
    "name": "ipython",
    "version": 3
   },
   "file_extension": ".py",
   "mimetype": "text/x-python",
   "name": "python",
   "nbconvert_exporter": "python",
   "pygments_lexer": "ipython3",
   "version": "3.8.12"
  }
 },
 "nbformat": 4,
 "nbformat_minor": 1
}
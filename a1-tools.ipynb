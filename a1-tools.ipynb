{
 "cells": [
  {
   "cell_type": "markdown",
   "metadata": {
    "collapsed": true,
    "pycharm": {
     "name": "#%% md\n"
    }
   },
   "source": [
    "```\n",
    " _____           _\n",
    "|_   _|         | |\n",
    "  | | ___   ___ | |___\n",
    "  | |/ _ \\ / _ \\| / __|\n",
    "  | | (_) | (_) | \\__ \\\n",
    "  \\_/\\___/ \\___/|_|___/\n",
    "```"
   ]
  },
  {
   "cell_type": "markdown",
   "source": [
    "# Libraries\n",
    "\n",
    "Base tools:\n",
    "- NumPy\n",
    "- Pandas\n",
    "- Scipy\n",
    "\n",
    "Machine learning:\n",
    "- Scikit-learn\n",
    "- XGboost\n",
    "\n",
    "Deep learning:\n",
    "- PyTorch\n",
    "- TensorFlow + Keras\n",
    "- JAX"
   ],
   "metadata": {
    "collapsed": false,
    "pycharm": {
     "name": "#%% md\n"
    }
   }
  }
 ],
 "metadata": {
  "kernelspec": {
   "display_name": "Python 3",
   "language": "python",
   "name": "python3"
  },
  "language_info": {
   "codemirror_mode": {
    "name": "ipython",
    "version": 2
   },
   "file_extension": ".py",
   "mimetype": "text/x-python",
   "name": "python",
   "nbconvert_exporter": "python",
   "pygments_lexer": "ipython2",
   "version": "2.7.6"
  }
 },
 "nbformat": 4,
 "nbformat_minor": 0
}
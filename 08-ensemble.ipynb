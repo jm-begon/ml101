{
 "cells": [
  {
   "cell_type": "markdown",
   "metadata": {
    "collapsed": true,
    "pycharm": {
     "name": "#%% md\n"
    }
   },
   "source": [
    "```\n",
    " _____                         _     _\n",
    "|  ___|                       | |   | |\n",
    "| |__ _ __  ___  ___ _ __ ___ | |__ | | ___\n",
    "|  __| '_ \\/ __|/ _ \\ '_ ` _ \\| '_ \\| |/ _ \\\n",
    "| |__| | | \\__ \\  __/ | | | | | |_) | |  __/\n",
    "\\____/_| |_|___/\\___|_| |_| |_|_.__/|_|\\___|\n",
    "```"
   ]
  },
  {
   "cell_type": "markdown",
   "source": [
    "# Motivation and conditions\n",
    "Ensembling is a technique used with complex hypothesis spaces. In such a case,\n",
    "the learning algorithm has high variance. Therefore, averaging several models\n",
    "leads to better and more stable models.\n",
    "\n",
    "In order to average several models, they must first be built. There is, however,\n",
    "usually only one training set. Consequently, randomness is injected in the\n",
    "learning process, resulting in more variance. Ensembling can only work if the\n",
    "gain obtained from the variance reduction is better than the introduced\n",
    "variance.\n",
    "\n",
    "# Bagging\n",
    "Bagging is a general concept which consists in drawing bootstrap samples (ie.\n",
    "selecting with repetition) out of the training set. This somewhat reduces the\n",
    "effective number of samples (and places more weights on some). Bagging is a\n",
    "very broad and generic method and be applied in [classification](https://scikit-learn.org/stable/modules/generated/sklearn.ensemble.BaggingClassifier.html)\n",
    "and [regression](https://scikit-learn.org/stable/modules/generated/sklearn.ensemble.BaggingRegressor.html)\n",
    "alike.\n",
    "\n",
    "# Forests\n",
    "With tree-based methods, there is actually many ways to introduce randomness\n",
    "in a model. More specifically, randomness can be introduced at each stage of the\n",
    "recursive building mechanism. Most famous methods include\n",
    "- random forests (for [classification](https://scikit-learn.org/stable/modules/generated/sklearn.ensemble.RandomForestClassifier.html) and [regression](https://scikit-learn.org/stable/modules/generated/sklearn.ensemble.RandomForestRegressor.html));\n",
    "- extremely randomized trees (for [classification](https://scikit-learn.org/stable/modules/generated/sklearn.ensemble.ExtraTreesClassifier.html) and [regression](https://scikit-learn.org/stable/modules/generated/sklearn.ensemble.ExtraTreesRegressor.html))."
   ],
   "metadata": {
    "collapsed": false
   }
  }
 ],
 "metadata": {
  "kernelspec": {
   "display_name": "Python 3",
   "language": "python",
   "name": "python3"
  },
  "language_info": {
   "codemirror_mode": {
    "name": "ipython",
    "version": 2
   },
   "file_extension": ".py",
   "mimetype": "text/x-python",
   "name": "python",
   "nbconvert_exporter": "python",
   "pygments_lexer": "ipython2",
   "version": "2.7.6"
  }
 },
 "nbformat": 4,
 "nbformat_minor": 0
}